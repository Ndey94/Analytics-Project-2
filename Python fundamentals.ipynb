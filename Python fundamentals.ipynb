{
 "cells": [
  {
   "cell_type": "code",
   "execution_count": 8,
   "id": "e906892a-748a-418c-8f87-58f91b5b917d",
   "metadata": {},
   "outputs": [
    {
     "name": "stdout",
     "output_type": "stream",
     "text": [
      "Requirement already satisfied: pandas in c:\\users\\office\\anaconda3\\lib\\site-packages (2.1.4)\n",
      "Requirement already satisfied: numpy<2,>=1.23.2 in c:\\users\\office\\anaconda3\\lib\\site-packages (from pandas) (1.26.4)\n",
      "Requirement already satisfied: python-dateutil>=2.8.2 in c:\\users\\office\\anaconda3\\lib\\site-packages (from pandas) (2.8.2)\n",
      "Requirement already satisfied: pytz>=2020.1 in c:\\users\\office\\anaconda3\\lib\\site-packages (from pandas) (2023.3.post1)\n",
      "Requirement already satisfied: tzdata>=2022.1 in c:\\users\\office\\anaconda3\\lib\\site-packages (from pandas) (2023.3)\n",
      "Requirement already satisfied: six>=1.5 in c:\\users\\office\\anaconda3\\lib\\site-packages (from python-dateutil>=2.8.2->pandas) (1.16.0)\n"
     ]
    }
   ],
   "source": [
    "!pip install pandas"
   ]
  },
  {
   "cell_type": "code",
   "execution_count": 9,
   "id": "38784c40-66b9-43b0-a6ee-e43fc9507257",
   "metadata": {},
   "outputs": [],
   "source": [
    "import pandas as pd"
   ]
  },
  {
   "cell_type": "code",
   "execution_count": 15,
   "id": "ab9b3613-de02-40bf-9809-d52a8bad7a5b",
   "metadata": {},
   "outputs": [],
   "source": [
    "# Task 1\n",
    "# Creating Employee DataFrame\n",
    "employee_data = {\n",
    "    \"ID\": [\"A001\", \"A002\", \"A003\", \"A004\", \"A005\"],\n",
    "    \"Name\": [\"John Alter\", \"Alice Luxumberg\", \"Tom Sabestine\", \"Nina Adgra\", \"Amy Johny\"],\n",
    "    \"Gender\": [\"M\", \"F\", \"M\", \"F\", \"F\"],\n",
    "    \"City\": [\"Paris\", \"London\", \"Berlin\", \"Newyork\", \"Madrid\"],\n",
    "    \"Age\": [25, 27, 29, 31, 30]\n",
    "}\n",
    "\n",
    "employee_df = pd.DataFrame(employee_data)\n",
    "employee_df.to_csv(\"employee.csv\", index=False)"
   ]
  },
  {
   "cell_type": "code",
   "execution_count": 16,
   "id": "4101bbfb-8583-45ce-905a-e8dc60123c1b",
   "metadata": {},
   "outputs": [],
   "source": [
    "# Creating Seniority Level DataFrame\n",
    "seniority_data = {\n",
    "    \"ID\": [\"A001\", \"A002\", \"A003\", \"A004\", \"A005\"],\n",
    "    \"Designation Level\": [2, 2, 3, 2, 3]\n",
    "}\n",
    "\n",
    "seniority_df = pd.DataFrame(seniority_data)\n",
    "seniority_df.to_csv(\"seniority.csv\", index=False)"
   ]
  },
  {
   "cell_type": "code",
   "execution_count": 17,
   "id": "3a3809d6-e741-41af-8581-c501eeb051ba",
   "metadata": {},
   "outputs": [],
   "source": [
    "# Creating Project DataFrame\n",
    "project_data = {\n",
    "    \"ID\": [\"A001\", \"A002\", \"A003\", \"A004\", \"A005\", \"A002\", \"A005\", \"A003\", \"A001\", \"A003\", \"A001\", \"A004\", \"A004\", \"A005\"],\n",
    "    \"Project\": [\"Project 1\", \"Project 2\", \"Project 3\", \"Project 4\", \"Project 5\", \"Project 6\", \"Project 7\", \"Project 8\", \"Project 9\", \"Project 10\", \"Project 11\", \"Project 12\", \"Project 13\", \"Project 14\"],\n",
    "    \"Cost\": [1002000, 2000000, 4500000, 5500000, None, 680000, 400000, 350000, None, 300000, 2000000, 1000000, 3000000, 200000],\n",
    "    \"Status\": [\"Finished\", \"Ongoing\", \"Finished\", \"Ongoing\", \"Finished\", \"Failed\", \"Finished\", \"Failed\", \"Ongoing\", \"Finished\", \"Failed\", \"Ongoing\", \"Finished\", \"Finished\"]\n",
    "}\n",
    "\n",
    "project_df = pd.DataFrame(project_data)\n",
    "project_df.to_csv(\"project.csv\", index=False)"
   ]
  },
  {
   "cell_type": "code",
   "execution_count": 18,
   "id": "9ee4fceb-ee00-46ac-900f-e77ebb6de449",
   "metadata": {},
   "outputs": [],
   "source": [
    "# Task 2\n",
    "# Calculate running average to replace missing values\n",
    "for i in range(len(project_df)):\n",
    "    if pd.isna(project_df.loc[i, \"Cost\"]):\n",
    "        project_df.loc[i, \"Cost\"] = project_df[\"Cost\"][:i].mean()\n",
    "\n",
    "# Save the updated Project dataframe\n",
    "project_df.to_csv(\"project.csv\", index=False)"
   ]
  },
  {
   "cell_type": "code",
   "execution_count": 20,
   "id": "ff88afdd-73a1-4056-b0e9-244886b5f090",
   "metadata": {},
   "outputs": [],
   "source": [
    "# Tgask 3\n",
    "# Split Name into First Name and Last Name\n",
    "employee_df[['First Name', 'Last Name']] = employee_df['Name'].str.split(' ', expand=True)\n",
    "employee_df.drop(columns=['Name'], inplace=True)\n",
    "employee_df.to_csv('employee.csv', index=False)"
   ]
  },
  {
   "cell_type": "code",
   "execution_count": 26,
   "id": "9a8e3a13-76f1-4309-9e0d-2faf27c5a1c9",
   "metadata": {},
   "outputs": [],
   "source": [
    "# Task 4\n",
    "# Merge DataFrames\n",
    "final_df = employee_df.merge(seniority_df, on='ID').merge(project_df, on='ID')\n",
    "final_df.to_csv('final.csv', index=False)"
   ]
  },
  {
   "cell_type": "code",
   "execution_count": 27,
   "id": "09db02b2-aebf-427b-8113-0c47042da310",
   "metadata": {},
   "outputs": [],
   "source": [
    "# Task 5\n",
    "# Add Bonus Column\n",
    "final_df['Bonus'] = final_df.apply(lambda x: 0.05 * x['Cost'] if x['Status'] == 'Finished' else 0, axis=1)\n",
    "final_df.to_csv('final.csv', index=False)"
   ]
  },
  {
   "cell_type": "code",
   "execution_count": 29,
   "id": "d2d0aa19-dd28-40dc-b587-9bada353cf1c",
   "metadata": {},
   "outputs": [],
   "source": [
    "# Task 6\n",
    "# Demote and delete records\n",
    "final_df.loc[final_df['Status'] == 'Failed', 'Designation Level'] += 1\n",
    "final_df = final_df[final_df['Designation Level'] <= 4]\n",
    "final_df.to_csv('final.csv', index=False)"
   ]
  },
  {
   "cell_type": "code",
   "execution_count": null,
   "id": "a7ea1633-aafb-445b-a454-d92c295f9b30",
   "metadata": {},
   "outputs": [],
   "source": [
    "# Task 7\n",
    "final_df['First Name'] = final_df.apply(lambda x: 'Mr. ' + x['First Name'] if x['Gender'] == 'M' else 'Mrs. ' + x['First Name'], axis=1)\n",
    "final_df.drop(columns=['Gender'], inplace=True)\n",
    "final_df.to_csv('final.csv', index=False)"
   ]
  },
  {
   "cell_type": "code",
   "execution_count": 41,
   "id": "8b0609ed-9a31-4a92-9c03-932fca7ff75c",
   "metadata": {},
   "outputs": [],
   "source": [
    "# Task 8\n",
    "# Define a function to promote based on age\n",
    "def promote_based_on_age(row):\n",
    "    if row['Age'] > 29:\n",
    "        row['Designation Level'] = max(1, row['Designation Level'] + 1)\n",
    "    return row\n",
    "\n",
    "# Apply the function to each row\n",
    "final_df = final_df.apply(promote_based_on_age, axis=1)\n",
    "final_df.to_csv('final.csv', index=False)"
   ]
  },
  {
   "cell_type": "code",
   "execution_count": 37,
   "id": "93083acd-c93f-48a9-be78-bacfd7ca8c40",
   "metadata": {},
   "outputs": [],
   "source": [
    "# Task 9\n",
    "# Calculate total project cost\n",
    "totalprojcost = final_df.groupby(['ID', 'First Name'])['Cost'].sum().reset_index()\n",
    "totalprojcost.rename(columns={'Cost': 'Total Cost'}, inplace=True)\n",
    "totalprojcost.to_csv('totalprojcost.csv', index=False)"
   ]
  },
  {
   "cell_type": "code",
   "execution_count": 42,
   "id": "35568167-f4b2-48c2-a5ed-76cc8ba5b35c",
   "metadata": {},
   "outputs": [
    {
     "name": "stdout",
     "output_type": "stream",
     "text": [
      "      ID     City  Age  First Name  Last Name  Designation Level     Project  \\\n",
      "3   A002   London   27  Mrs. Alice  Luxumberg                  2   Project 2   \n",
      "4   A002   London   27  Mrs. Alice  Luxumberg                  4   Project 6   \n",
      "8   A004  Newyork   31   Mrs. Nina      Adgra                  3   Project 4   \n",
      "9   A004  Newyork   31   Mrs. Nina      Adgra                  3  Project 12   \n",
      "10  A004  Newyork   31   Mrs. Nina      Adgra                  3  Project 13   \n",
      "\n",
      "         Cost    Status     Bonus  \n",
      "3   2000000.0   Ongoing       0.0  \n",
      "4    680000.0    Failed       0.0  \n",
      "8   5500000.0   Ongoing       0.0  \n",
      "9   1000000.0   Ongoing       0.0  \n",
      "10  3000000.0  Finished  150000.0  \n"
     ]
    }
   ],
   "source": [
    "# Task 10\n",
    "# Filter employees by city name containing 'o'\n",
    "filtered_df = final_df[final_df['City'].str.contains('o', case=False)]\n",
    "print(filtered_df)"
   ]
  },
  {
   "cell_type": "code",
   "execution_count": null,
   "id": "780f8e85-f669-45ab-9637-28607216eca2",
   "metadata": {},
   "outputs": [],
   "source": []
  }
 ],
 "metadata": {
  "kernelspec": {
   "display_name": "Python 3 (ipykernel)",
   "language": "python",
   "name": "python3"
  },
  "language_info": {
   "codemirror_mode": {
    "name": "ipython",
    "version": 3
   },
   "file_extension": ".py",
   "mimetype": "text/x-python",
   "name": "python",
   "nbconvert_exporter": "python",
   "pygments_lexer": "ipython3",
   "version": "3.11.7"
  }
 },
 "nbformat": 4,
 "nbformat_minor": 5
}
